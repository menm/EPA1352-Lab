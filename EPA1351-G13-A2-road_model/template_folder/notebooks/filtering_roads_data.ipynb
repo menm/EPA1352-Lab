{
 "cells": [
  {
   "cell_type": "markdown",
   "metadata": {},
   "source": [
    "## ASSIGNMENT TWO: JUPYTER NOTEBOOK ##\n",
    "\n",
    "This file is used in order to generate two csv files. These two files will be used to import the data in to Simio. \n",
    "\n",
    "### 2.1 Creating the initialisation file ###\n",
    "\n",
    "First of all, we import the needed libraries and read in the file provided in assignment two and select a sub dataframe on the preffered road, which is N1."
   ]
  },
  {
   "cell_type": "code",
   "execution_count": 1,
   "metadata": {},
   "outputs": [],
   "source": [
    "import pandas as pd\n",
    "import numpy as np\n",
    "\n",
    "df_all_bridges = pd.read_excel(\"BMMS_overview.xlsx\",sep='\\t',header=0)\n",
    "df_bridges_n1 = df_all_bridges.loc[df_all_bridges['road'] == \"N1\"]"
   ]
  },
  {
   "cell_type": "markdown",
   "metadata": {},
   "source": [
    "Thereafter, we define the clean_bridges function which was made in assignment 1. This function deletes the duplicate or faulty bridges from the existing dataframe.\n",
    "\n",
    "We also define the columns we would like to use and rename the columns, since they need to overlap with the roads dataframe in order to merge them at a later stadium. \n",
    "\n",
    "Every bridge point gets a label \"bridge\" inserted at the new column called 'what'."
   ]
  },
  {
   "cell_type": "code",
   "execution_count": 2,
   "metadata": {},
   "outputs": [],
   "source": [
    "def clean_bridges(panda):\n",
    "    LRP_not_roads = []\n",
    "    LRP_previous = \"\"\n",
    "    name_previous = \"\"\n",
    "    km_previous = 0\n",
    "    counter_left = 0\n",
    "    counter_right=0\n",
    "    \n",
    "    \n",
    "    # We loop through every row in the dataframe\n",
    "    for index, row in panda.iterrows():\n",
    "        LRP = panda.loc[index, \"LRPName\"].rstrip().lstrip()\n",
    "        km = panda.loc[index, \"chainage\"]\n",
    "        name = str(panda.loc[index, \"name\"]).lower()\n",
    "    \n",
    "        #we remove the bridge from the dataframe...\n",
    "        #if the LRP is the same as the LRP before it\n",
    "        if LRP_previous == LRP:\n",
    "            panda = panda.drop(index, axis = 0)\n",
    "            \n",
    "        #if this bridge is within 5 metres of the previous bridge, it is considered a duplicate\n",
    "        elif km <= (km_previous + 0.005):\n",
    "            panda = panda.drop(index, axis = 0) \n",
    "            \n",
    "        #we don't want to compare . to ., because these could be different bridges. Names must match 70%. Bridges must be less\n",
    "        #than 50m apart\n",
    "        elif '(r)' in name_previous and abs(km_previous - km) < 0.03:\n",
    "            if '(l)' in name:\n",
    "                counter_right += 1\n",
    "                panda = panda.drop(index, axis = 0) \n",
    "        elif '(l)' in name_previous and abs(km_previous - km) < 0.03:\n",
    "            if '(r)' in name:\n",
    "                counter_left += 1\n",
    "                panda = panda.drop(index, axis = 0) \n",
    "        \n",
    "        LRP_previous = LRP\n",
    "        km_previous = km\n",
    "        name_previous = name\n",
    "    \n",
    "    return(panda)\n",
    "\n",
    "df_bridges_n1 = clean_bridges(df_bridges_n1)\n",
    "df_bridges = df_bridges_n1.loc[:,['LRPName','lat','lon','length','condition','structureNr', 'chainage']]\n",
    "df_bridges.columns = ['lrp','lat','lon','length','condition','structureNr', 'chainage']\n",
    "df_bridges['what'] = \"bridge\""
   ]
  },
  {
   "cell_type": "markdown",
   "metadata": {},
   "source": [
    "Secondly, we read in the roads file provided in the assignment. We select it on road N1 and subset the columns we would like to use. We also insert a new column and give it the value \"roadpoint\" to all values (since it are all roadpoints)"
   ]
  },
  {
   "cell_type": "code",
   "execution_count": 3,
   "metadata": {},
   "outputs": [],
   "source": [
    "df_all_roads = pd.read_csv(\"_roads3.csv\", sep=',')\n",
    "df_roads_n1 = df_all_roads.loc[df_all_roads['road'] == \"N1\"]\n",
    "\n",
    "# subset the cols we want and add a new column that identifies the point\n",
    "df_roads = df_roads_n1.loc[:,['lrp', 'lat', 'lon','chainage']]\n",
    "df_roads['what'] = \"roadpoint\""
   ]
  },
  {
   "cell_type": "markdown",
   "metadata": {},
   "source": [
    "Thirdly, since both the dataframes are in the same format, we can append the rows of the road to the bridges dataframe. The only condition it has, that the road is not a duplicate (since it is a bridge, and we don't want duplicate points)."
   ]
  },
  {
   "cell_type": "code",
   "execution_count": 4,
   "metadata": {},
   "outputs": [],
   "source": [
    "bridge_values = df_bridges['lrp'].to_numpy()\n",
    "\n",
    "for index, row in df_roads.iterrows():\n",
    "    if row[0] in bridge_values:\n",
    "        continue\n",
    "    \n",
    "    df_bridges = df_bridges.append(row)"
   ]
  },
  {
   "cell_type": "markdown",
   "metadata": {},
   "source": [
    "Well, now we have a workable dataframe. However, we need to execute some manual handlings in order to get it in the right format. \n",
    "\n",
    "- When we sort the values, LRPS, LRPSa, LRPSb are at the bottom of the dataframe. So we move them up by creating a sub dataframe of the last 3 rows, and append the other ones to it. \n",
    "- The starting point and end point should have their own identifier in the column 'what'"
   ]
  },
  {
   "cell_type": "code",
   "execution_count": 5,
   "metadata": {},
   "outputs": [],
   "source": [
    "df = df_bridges.sort_values(['lrp'])\n",
    "df_start = df.iloc[-3:]\n",
    "df.drop(df.tail(3).index,inplace=True)\n",
    "df = df_start.append(df)\n",
    "df = df.reset_index(drop = True)\n",
    "\n",
    "df.loc[(df['lrp'] == \"LRPS\"),'what'] = \"startpoint\"\n",
    "df.loc[(df['lrp'] == \"LRPE\"),'what'] = \"endpoint\"\n",
    "\n"
   ]
  },
  {
   "cell_type": "markdown",
   "metadata": {},
   "source": [
    "Another thing we would like to add is a column with the processing time given in the assignment."
   ]
  },
  {
   "cell_type": "code",
   "execution_count": 11,
   "metadata": {},
   "outputs": [],
   "source": [
    "for index, row in df.iterrows():\n",
    "    if df.loc[index, 'length'] >= 200:\n",
    "        df.loc[index, 'Delay'] = 'Random.Triangular(60,120,240)'\n",
    "    elif df.loc[index, 'length'] >= 50 and df.loc[index, 'length'] < 200:\n",
    "        df.loc[index, 'Delay'] = 'Random.Uniform(45,90)'\n",
    "    elif df.loc[index, 'length'] >= 10 and df.loc[index, 'length'] < 50:\n",
    "        df.loc[index, 'Delay'] = 'Random.Uniform(15,60)'\n",
    "    elif df.loc[index, 'length'] < 10:\n",
    "        df.loc[index, 'Delay'] = 'Random.Uniform(10,20)'\n",
    "    else:\n",
    "        df.loc[index, 'Delay'] = 0\n",
    "        \n",
    "df.to_csv(\"roads.csv\", sep=\",\",index=False)"
   ]
  },
  {
   "cell_type": "markdown",
   "metadata": {},
   "source": [
    "### 2.2 Creating the linkage file ###\n",
    "\n",
    "This file will help to specify the links from sources, nodes, servers and the sink.\n",
    "\n",
    "We create an empty data frame with the columns object and destination. We fill this dataframe for every LRP point in the previous created dataframe. If the LRP point is a road, the point is a road point and doesn't need to specify 'input' or 'output', since a node has 1 point (unlike a server which has an input and output). \n",
    "\n",
    "If the LRP point is not a node, the object needs to link from the output of an object to the input of another object (could be node, or another object).\n",
    "\n",
    "The for loop creates a 2 dimensional array with the specification of the given LRP and adds it to the empty data frame."
   ]
  },
  {
   "cell_type": "code",
   "execution_count": 6,
   "metadata": {},
   "outputs": [],
   "source": [
    "links = pd.DataFrame(columns=['Object','Destination'])\n",
    "\n",
    "for index, row in df.iterrows():\n",
    "    new_row = []\n",
    "    \n",
    "    if row['what'] == \"roadpoint\":\n",
    "        new_row.append(row['lrp'])\n",
    "    else:\n",
    "        new_row.append(\"Ouput@\"+row['lrp'])\n",
    "    \n",
    "    if index+1 < len(df):\n",
    "        if df.loc[index+1, 'what'] == \"roadpoint\":\n",
    "            new_row.append(df.loc[index+1, 'lrp'])\n",
    "        else:\n",
    "            new_row.append(\"Input@\"+df.loc[index+1, 'lrp'])\n",
    "    \n",
    "        links.loc[len(links)] = new_row\n",
    "\n",
    "links.to_csv(\"destinations.csv\", sep=\",\",index=False)   "
   ]
  }
 ],
 "metadata": {
  "kernelspec": {
   "display_name": "Python 3",
   "language": "python",
   "name": "python3"
  },
  "language_info": {
   "codemirror_mode": {
    "name": "ipython",
    "version": 3
   },
   "file_extension": ".py",
   "mimetype": "text/x-python",
   "name": "python",
   "nbconvert_exporter": "python",
   "pygments_lexer": "ipython3",
   "version": "3.7.3"
  }
 },
 "nbformat": 4,
 "nbformat_minor": 2
}
