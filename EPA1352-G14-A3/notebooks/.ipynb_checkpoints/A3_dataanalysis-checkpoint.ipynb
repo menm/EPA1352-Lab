{
 "cells": [
  {
   "cell_type": "markdown",
   "metadata": {},
   "source": [
    "# EPA1352 - Assignment 3: Data Analysis"
   ]
  },
  {
   "cell_type": "markdown",
   "metadata": {},
   "source": [
    "Input files: \n",
    "- A3_scenarios_data.csv\n",
    "\n",
    "Output files:\n",
    "- A3_results.png"
   ]
  },
  {
   "cell_type": "code",
   "execution_count": 1,
   "metadata": {},
   "outputs": [],
   "source": [
    "import pandas as pd\n",
    "import numpy as np \n",
    "import matplotlib.pyplot as plt\n",
    "import warnings\n",
    "warnings.filterwarnings('ignore')"
   ]
  },
  {
   "cell_type": "code",
   "execution_count": 2,
   "metadata": {},
   "outputs": [
    {
     "data": {
      "text/html": [
       "<div>\n",
       "<style scoped>\n",
       "    .dataframe tbody tr th:only-of-type {\n",
       "        vertical-align: middle;\n",
       "    }\n",
       "\n",
       "    .dataframe tbody tr th {\n",
       "        vertical-align: top;\n",
       "    }\n",
       "\n",
       "    .dataframe thead th {\n",
       "        text-align: right;\n",
       "    }\n",
       "</style>\n",
       "<table border=\"1\" class=\"dataframe\">\n",
       "  <thead>\n",
       "    <tr style=\"text-align: right;\">\n",
       "      <th></th>\n",
       "      <th>scenario</th>\n",
       "      <th>seed</th>\n",
       "      <th>Run</th>\n",
       "      <th>Average driving time</th>\n",
       "    </tr>\n",
       "  </thead>\n",
       "  <tbody>\n",
       "    <tr>\n",
       "      <th>0</th>\n",
       "      <td>1</td>\n",
       "      <td>88888888</td>\n",
       "      <td>0</td>\n",
       "      <td>347.751633</td>\n",
       "    </tr>\n",
       "    <tr>\n",
       "      <th>1</th>\n",
       "      <td>2</td>\n",
       "      <td>88888888</td>\n",
       "      <td>1</td>\n",
       "      <td>358.941776</td>\n",
       "    </tr>\n",
       "    <tr>\n",
       "      <th>2</th>\n",
       "      <td>3</td>\n",
       "      <td>88888888</td>\n",
       "      <td>2</td>\n",
       "      <td>404.692537</td>\n",
       "    </tr>\n",
       "    <tr>\n",
       "      <th>3</th>\n",
       "      <td>4</td>\n",
       "      <td>88888888</td>\n",
       "      <td>3</td>\n",
       "      <td>544.416110</td>\n",
       "    </tr>\n",
       "    <tr>\n",
       "      <th>4</th>\n",
       "      <td>5</td>\n",
       "      <td>88888888</td>\n",
       "      <td>4</td>\n",
       "      <td>1049.989295</td>\n",
       "    </tr>\n",
       "    <tr>\n",
       "      <th>5</th>\n",
       "      <td>1</td>\n",
       "      <td>88888889</td>\n",
       "      <td>5</td>\n",
       "      <td>348.492402</td>\n",
       "    </tr>\n",
       "    <tr>\n",
       "      <th>6</th>\n",
       "      <td>2</td>\n",
       "      <td>88888889</td>\n",
       "      <td>6</td>\n",
       "      <td>350.529538</td>\n",
       "    </tr>\n",
       "    <tr>\n",
       "      <th>7</th>\n",
       "      <td>3</td>\n",
       "      <td>88888889</td>\n",
       "      <td>7</td>\n",
       "      <td>411.133973</td>\n",
       "    </tr>\n",
       "    <tr>\n",
       "      <th>8</th>\n",
       "      <td>4</td>\n",
       "      <td>88888889</td>\n",
       "      <td>8</td>\n",
       "      <td>591.382305</td>\n",
       "    </tr>\n",
       "    <tr>\n",
       "      <th>9</th>\n",
       "      <td>5</td>\n",
       "      <td>88888889</td>\n",
       "      <td>9</td>\n",
       "      <td>932.790709</td>\n",
       "    </tr>\n",
       "  </tbody>\n",
       "</table>\n",
       "</div>"
      ],
      "text/plain": [
       "   scenario      seed  Run  Average driving time\n",
       "0         1  88888888    0            347.751633\n",
       "1         2  88888888    1            358.941776\n",
       "2         3  88888888    2            404.692537\n",
       "3         4  88888888    3            544.416110\n",
       "4         5  88888888    4           1049.989295\n",
       "5         1  88888889    5            348.492402\n",
       "6         2  88888889    6            350.529538\n",
       "7         3  88888889    7            411.133973\n",
       "8         4  88888889    8            591.382305\n",
       "9         5  88888889    9            932.790709"
      ]
     },
     "execution_count": 2,
     "metadata": {},
     "output_type": "execute_result"
    }
   ],
   "source": [
    "scenarios_file = \"A3_scenarios_data.csv\"\n",
    "scenario_data = pd.read_csv(scenarios_file)\n",
    "scenario_data"
   ]
  },
  {
   "cell_type": "code",
   "execution_count": 3,
   "metadata": {},
   "outputs": [],
   "source": [
    "# select each replications by seed\n",
    "run_88888888 = scenario_data[scenario_data.seed == 88888888]\n",
    "run_88888889 = scenario_data[scenario_data.seed == 88888889]"
   ]
  },
  {
   "cell_type": "code",
   "execution_count": 4,
   "metadata": {},
   "outputs": [
    {
     "data": {
      "image/png": "[encoded data removed]",
      "text/plain": [
       "<Figure size 432x288 with 1 Axes>"
      ]
     },
     "metadata": {
      "needs_background": "light"
     },
     "output_type": "display_data"
    }
   ],
   "source": [
    "# plot all scenarios of one run\n",
    "run_88888888.plot(kind='bar',x='scenario',y='Average driving time', legend=None, figsize=(6, 4))\n",
    "plt.xlabel('scenario', fontsize=16)\n",
    "plt.ylabel('driving time (min)', fontsize=16)\n",
    "plt.xticks(fontsize=12)\n",
    "plt.yticks(fontsize=12)\n",
    "plt.title(\"Experiments with seed 88888888\", loc='center', fontsize=20)\n",
    "# plt.savefig('A3_results.png')\n",
    "plt.show()"
   ]
  },
  {
   "cell_type": "code",
   "execution_count": 5,
   "metadata": {},
   "outputs": [
    {
     "data": {
      "image/png": "[encoded data removed]",
      "text/plain": [
       "<Figure size 864x576 with 1 Axes>"
      ]
     },
     "metadata": {
      "needs_background": "light"
     },
     "output_type": "display_data"
    }
   ],
   "source": [
    "# plot all replications at once\n",
    "N = 5\n",
    "run_88888889 = run_88888889[\"Average driving time\"]\n",
    "run_88888888 = run_88888888[\"Average driving time\"]\n",
    "\n",
    "plt.figure(figsize=(12,8))\n",
    "\n",
    "ind = np.arange(N) \n",
    "width = 0.15       \n",
    "plt.bar(ind, run_88888888, width, label='rep_s88')\n",
    "plt.bar(ind + width, run_88888889, width, label='rep_s89')\n",
    "\n",
    "plt.xlabel('Scenario', fontsize=16)\n",
    "plt.ylabel('Average driving time (min)', fontsize=16)\n",
    "plt.title('Results of Scenario Experiments with Replications', fontsize=20)\n",
    "\n",
    "plt.xticks(ind + width / 2, ('1', '2', '3', '4', '5'), fontsize=12)\n",
    "plt.yticks(fontsize=16)\n",
    "plt.legend(loc='best')\n",
    "\n",
    "plt.savefig('A3_results.png')\n",
    "plt.show()"
   ]
  }
 ],
 "metadata": {
  "kernelspec": {
   "display_name": "Python 3",
   "language": "python",
   "name": "python3"
  },
  "language_info": {
   "codemirror_mode": {
    "name": "ipython",
    "version": 3
   },
   "file_extension": ".py",
   "mimetype": "text/x-python",
   "name": "python",
   "nbconvert_exporter": "python",
   "pygments_lexer": "ipython3",
   "version": "3.7.8"
  }
 },
 "nbformat": 4,
 "nbformat_minor": 4
}
